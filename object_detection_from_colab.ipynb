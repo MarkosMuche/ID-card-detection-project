{
  "cells": [
    {
      "cell_type": "markdown",
      "metadata": {
        "id": "ZOPRh3LAkO1x"
      },
      "source": [
        "Mounting the drive"
      ]
    },
    {
      "cell_type": "code",
      "execution_count": null,
      "metadata": {
<<<<<<< HEAD
        "id": "zojYJ2m7UCDN",
        "colab": {
          "base_uri": "https://localhost:8080/"
        },
=======
        "colab": {
          "base_uri": "https://localhost:8080/"
        },
        "id": "zojYJ2m7UCDN",
>>>>>>> main
        "outputId": "eb35703f-9dc3-4ae1-b755-0ebecbba7633"
      },
      "outputs": [
        {
<<<<<<< HEAD
          "output_type": "stream",
          "name": "stdout",
=======
          "name": "stdout",
          "output_type": "stream",
>>>>>>> main
          "text": [
            "Mounted at /content/drive\n",
            "Cloning into 'ID-card-detection-project'...\n",
            "remote: Enumerating objects: 638, done.\u001b[K\n",
            "remote: Counting objects: 100% (497/497), done.\u001b[K\n",
            "remote: Compressing objects: 100% (274/274), done.\u001b[K\n",
            "remote: Total 638 (delta 246), reused 452 (delta 209), pack-reused 141\u001b[K\n",
            "Receiving objects: 100% (638/638), 132.15 MiB | 23.56 MiB/s, done.\n",
            "Resolving deltas: 100% (297/297), done.\n",
            "Reading package lists... Done\n",
            "Building dependency tree       \n",
            "Reading state information... Done\n",
            "The following package was automatically installed and is no longer required:\n",
            "  libnvidia-common-460\n",
            "Use 'apt autoremove' to remove it.\n",
            "The following packages will be REMOVED:\n",
            "  libcudnn8-dev\n",
            "The following held packages will be changed:\n",
            "  libcudnn8\n",
            "The following packages will be DOWNGRADED:\n",
            "  libcudnn8\n",
            "0 upgraded, 0 newly installed, 1 downgraded, 1 to remove and 2 not upgraded.\n",
            "Need to get 430 MB of archives.\n",
            "After this operation, 1,392 MB disk space will be freed.\n",
            "Get:1 https://developer.download.nvidia.com/compute/cuda/repos/ubuntu1804/x86_64  libcudnn8 8.1.0.77-1+cuda11.2 [430 MB]\n",
            "Fetched 430 MB in 7s (61.9 MB/s)\n",
            "(Reading database ... 123942 files and directories currently installed.)\n",
            "Removing libcudnn8-dev (8.1.1.33-1+cuda11.2) ...\n",
            "update-alternatives: removing manually selected alternative - switching libcudnn to auto mode\n",
            "\u001b[1mdpkg:\u001b[0m \u001b[1;33mwarning:\u001b[0m downgrading libcudnn8 from 8.1.1.33-1+cuda11.2 to 8.1.0.77-1+cuda11.2\n",
            "(Reading database ... 123919 files and directories currently installed.)\n",
            "Preparing to unpack .../libcudnn8_8.1.0.77-1+cuda11.2_amd64.deb ...\n",
            "Unpacking libcudnn8 (8.1.0.77-1+cuda11.2) over (8.1.1.33-1+cuda11.2) ...\n",
            "Setting up libcudnn8 (8.1.0.77-1+cuda11.2) ...\n",
            "Looking in indexes: https://pypi.org/simple, https://us-python.pkg.dev/colab-wheels/public/simple/\n",
            "Requirement already satisfied: pip in /usr/local/lib/python3.7/dist-packages (21.1.3)\n",
            "Collecting pip\n",
            "  Downloading pip-22.3-py3-none-any.whl (2.1 MB)\n",
            "\u001b[K     |████████████████████████████████| 2.1 MB 14.6 MB/s \n",
            "\u001b[?25hInstalling collected packages: pip\n",
            "  Attempting uninstall: pip\n",
            "    Found existing installation: pip 21.1.3\n",
            "    Uninstalling pip-21.1.3:\n",
            "      Successfully uninstalled pip-21.1.3\n"
          ]
        }
      ],
      "source": [
        "from google.colab import drive\n",
        "drive.mount('/content/drive')\n",
        "!git clone --single-branch --branch ticket https://github.com/MarkosMuche/ID-card-detection-project.git\n",
        "!apt install --allow-change-held-packages libcudnn8=8.1.0.77-1+cuda11.2\n",
        "!pip install --upgrade pip\n"
      ]
    },
    {
      "cell_type": "markdown",
      "metadata": {
        "id": "l8IqJtmwkzaW"
      },
      "source": [
        "Installing proto buf compiler and its related dependencies"
      ]
    },
    {
      "cell_type": "code",
      "execution_count": null,
      "metadata": {
        "id": "GX1A92yXcUSS"
      },
      "outputs": [],
      "source": [
        "!apt-get install protobuf-compiler python-pil python-lxml python-tk\n",
        "!pip install Cython"
      ]
    },
    {
      "cell_type": "markdown",
      "metadata": {
        "id": "iKVXkq_sJnE-"
      },
      "source": [
        "Clone the object detection library from github"
      ]
    },
    {
      "cell_type": "code",
      "execution_count": null,
      "metadata": {
        "id": "4qBCmUBvJG6t"
      },
      "outputs": [],
      "source": [
        "%cd /content/ID-card-detection-project/TensorFlow/\n",
        "!git clone https://github.com/tensorflow/models.git\n",
        "%cd models/research/\n"
      ]
    },
    {
      "cell_type": "markdown",
      "metadata": {
        "id": "6AuwknZElPY7"
      },
      "source": [
        "Compiling the protocol buffer filers"
      ]
    },
    {
      "cell_type": "code",
      "execution_count": null,
      "metadata": {
        "id": "VScOctHkclyo"
      },
      "outputs": [],
      "source": [
        "!protoc object_detection/protos/*.proto --python_out=."
      ]
    },
    {
      "cell_type": "markdown",
      "metadata": {
        "id": "11v81ltVlT2W"
      },
      "source": [
        "Placing setup.py in research folder and running build and install command for  * installing object detection api*"
      ]
    },
    {
      "cell_type": "code",
      "execution_count": null,
      "metadata": {
        "id": "qgoiBPNSfjwq"
      },
      "outputs": [],
      "source": [
        "!cp object_detection/packages/tf2/setup.py .\n",
        "!python -m pip install --use-feature=2020-resolver ."
      ]
    },
    {
      "cell_type": "markdown",
      "metadata": {
        "id": "PmW79jgslhXl"
      },
      "source": [
        "Verifying whether object detection api was correctly installed"
      ]
    },
    {
      "cell_type": "code",
      "execution_count": null,
      "metadata": {
        "id": "VR3iHyk-iXTK"
      },
      "outputs": [],
      "source": [
        "!python object_detection/builders/model_builder_tf2_test.py"
      ]
    },
    {
      "cell_type": "markdown",
<<<<<<< HEAD
=======
      "metadata": {
        "id": "aI4BnuTLENy7"
      },
>>>>>>> main
      "source": [
        "**Very Important step:**\n",
        "**Donwload the pretrained model**\n",
        "http://download.tensorflow.org/models/object_detection/tf2/20200711/ssd_resnet50_v1_fpn_640x640_coco17_tpu-8.tar.gz"
<<<<<<< HEAD
      ],
      "metadata": {
        "id": "aI4BnuTLENy7"
      }
    },
    {
      "cell_type": "code",
=======
      ]
    },
    {
      "cell_type": "code",
      "execution_count": null,
      "metadata": {
        "id": "RTzhBf00Eg5Z"
      },
      "outputs": [],
>>>>>>> main
      "source": [
        "%cd /content/ID-card-detection-project/TensorFlow/workspace/training_demo/\n",
        "!mkdir pre-trained-models\n",
        "%cd pre-trained-models\n",
        "!wget \"http://download.tensorflow.org/models/object_detection/tf2/20200711/ssd_resnet50_v1_fpn_640x640_coco17_tpu-8.tar.gz\""
<<<<<<< HEAD
      ],
      "metadata": {
        "id": "RTzhBf00Eg5Z"
      },
      "execution_count": null,
      "outputs": []
=======
      ]
>>>>>>> main
    },
    {
      "cell_type": "markdown",
      "metadata": {
        "id": "jXL2cVP7lvqF"
      },
      "source": [
        "Extract the model and remove the zip"
      ]
    },
    {
      "cell_type": "code",
<<<<<<< HEAD
      "source": [
        "!tar -xvzf ssd_resnet50_v1_fpn_640x640_coco17_tpu-8.tar.gz\n",
        "!rm ssd_resnet50_v1_fpn_640x640_coco17_tpu-8.tar.gz"
      ],
      "metadata": {
        "id": "Zld7dZAnFyVj"
      },
      "execution_count": null,
      "outputs": []
=======
      "execution_count": null,
      "metadata": {
        "id": "Zld7dZAnFyVj"
      },
      "outputs": [],
      "source": [
        "!tar -xvzf ssd_resnet50_v1_fpn_640x640_coco17_tpu-8.tar.gz\n",
        "!rm ssd_resnet50_v1_fpn_640x640_coco17_tpu-8.tar.gz"
      ]
>>>>>>> main
    },
    {
      "cell_type": "markdown",
      "metadata": {
        "id": "zZHWolvdl2sy"
      },
      "source": [
        "Running the training command with a training step of 5000 using the training script"
      ]
    },
    {
      "cell_type": "code",
      "execution_count": null,
      "metadata": {
        "id": "J6gnJHGZjP7E"
      },
      "outputs": [],
      "source": [
        "!cp '/content/ID-card-detection-project/TensorFlow/models/research/object_detection/model_main_tf2.py' '/content/ID-card-detection-project/TensorFlow/workspace/training_demo'\n",
        "\n",
        "%cd /content/ID-card-detection-project/TensorFlow/workspace/training_demo/\n",
        "\n",
        "!python model_main_tf2.py --model_dir=models/my_ssd_resnet50_v1_fpn --pipeline_config_path=models/my_ssd_resnet50_v1_fpn/pipeline.config\n"
      ]
    },
    {
      "cell_type": "markdown",
      "metadata": {
        "id": "yjtZPpKZmF40"
      },
      "source": [
        "Running evaluation script for getting the classification metric"
      ]
    },
    {
      "cell_type": "code",
      "execution_count": null,
      "metadata": {
        "id": "Q14hXsTHs4fZ"
      },
      "outputs": [],
      "source": [
        "!python model_main_tf2.py --model_dir=Trained_model/my_faster_rcnn \\\n",
        "--pipeline_config_path=models/my_ssd_resnet50_v1_fpn/pipeline.config \\\n",
        "--checkpoint_dir=models/my_ssd_resnet50_v1_fpn --alsologtostderr  \n"
      ]
    },
    {
      "cell_type": "code",
      "execution_count": null,
      "metadata": {
        "id": "_IpH86yqk67a"
      },
      "outputs": [],
      "source": [
        "%load_ext tensorboard"
      ]
    },
    {
      "cell_type": "markdown",
      "metadata": {
        "id": "9gqYA8Bumjfn"
      },
      "source": [
        "Running tensorboard on training folder generated during model training to get loss metric "
      ]
    },
    {
      "cell_type": "code",
      "execution_count": null,
      "metadata": {
        "id": "-NIwvZBvuuWX"
      },
      "outputs": [],
      "source": [
        "%cd Trained_model/my_faster_rcnn/train/\n",
        "\n",
        "%tensorboard --logdir=. "
      ]
    },
    {
      "cell_type": "markdown",
      "metadata": {
        "id": "Yr2i59NvmyxS"
      },
      "source": [
        "Running tensorboard on eval folder generated during evaluation script ran on the model"
      ]
    },
    {
      "cell_type": "code",
      "execution_count": null,
      "metadata": {
        "id": "xQ80dKavlW2P"
      },
      "outputs": [],
      "source": [
        "%cd /content/drive/MyDrive/ID-card detection project/Trained_model/my_faster_rcnn/eval\n",
        "%tensorboard --logdir=. "
      ]
    },
    {
      "cell_type": "markdown",
<<<<<<< HEAD
      "source": [
        "Export The model"
      ],
      "metadata": {
        "id": "eAOqe7qqTeNK"
      }
    },
    {
      "cell_type": "code",
=======
      "metadata": {
        "id": "eAOqe7qqTeNK"
      },
      "source": [
        "Export The model"
      ]
    },
    {
      "cell_type": "code",
      "execution_count": null,
      "metadata": {
        "id": "-FuH_-pfsN7l"
      },
      "outputs": [],
>>>>>>> main
      "source": [
        "%cd '/content/ID-card-detection-project/TensorFlow/workspace/training_demo'\n",
        "!cp '/content/ID-card-detection-project/TensorFlow/models/research/object_detection/exporter_main_v2.py' '/content/ID-card-detection-project/TensorFlow/workspace/training_demo'\n",
        "\n",
        "!python exporter_main_v2.py --input_type image_tensor --pipeline_config_path models/my_ssd_resnet50_v1_fpn/pipeline.config --trained_checkpoint_dir models/my_ssd_resnet50_v1_fpn/ --output_directory exported-models/my_model\n",
        "\n",
        "!cp -r 'exported-models/my_model' '/content/drive/MyDrive/Ben'\n"
<<<<<<< HEAD
      ],
      "metadata": {
        "id": "-FuH_-pfsN7l"
      },
      "execution_count": null,
      "outputs": []
    },
    {
      "cell_type": "markdown",
      "source": [
        "Inferencing/prediction"
      ],
      "metadata": {
        "id": "YPjKenoHc52Q"
      }
    },
    {
      "cell_type": "code",
=======
      ]
    },
    {
      "cell_type": "markdown",
      "metadata": {
        "id": "YPjKenoHc52Q"
      },
      "source": [
        "Inferencing/prediction"
      ]
    },
    {
      "cell_type": "code",
      "execution_count": null,
      "metadata": {
        "id": "bUhxmgxWdCTX"
      },
      "outputs": [],
>>>>>>> main
      "source": [
        "\n",
        "%cd /content/ID-card-detection-project/\n",
        "\n",
        "import os\n",
        "import cv2\n",
        "import tensorflow as tf\n",
        "import numpy as np\n",
        "from PIL import Image\n",
        "from object_detection.utils import label_map_util,visualization_utils as v_utils,config_util\n",
        "from object_detection.builders import model_builder\n",
        "import matplotlib\n",
        "from matplotlib import pyplot as plt\n",
        "from detect_img import show_inference\n",
        "\n",
        "wd = os.getcwd()\n",
        "\n",
        "MODEL_PATH = \"/content/ID-card-detection-project/TensorFlow/workspace/training_demo/exported-models/my_model/saved_model\" # add \"model_graph\" path from the drive\n",
        "LABELS_PATH = \"TensorFlow/workspace/training_demo/annotations/label_map.pbtxt\" # add the \"Annotations\" folder path \n",
        "\n",
        "# load the trained model onto memory\n",
        "detection_model = tf.saved_model.load(MODEL_PATH)\n",
        "\n",
        "# list of strings to add correct label for each box\n",
        "category_index = label_map_util.create_category_index_from_labelmap(LABELS_PATH,use_display_name=True)\n",
        "\n",
        "img_path = ['/content/ID-card-detection-project/TensorFlow/workspace/training_demo/images/test/20190911_174701-e1568223494458.jpg',]\n",
        "            \n",
        "i = 0\n",
        "for p in img_path:\n",
        "    i += 1\n",
        "    img = cv2.imread(p)\n",
        "    img = cv2.cvtColor(img,cv2.COLOR_BGR2RGB)\n",
        "    \n",
        "    final_Img = show_inference(img, MODEL_PATH, LABELS_PATH)\n",
        "    final_Img = cv2.cvtColor(final_Img,cv2.COLOR_RGB2BGR)\n",
        "    image_name = 'Saved_img_{}.jpg'.format(str(i));\n",
        "    cv2.imwrite(image_name,final_Img)\n",
        "\n",
        "    print(image_name,' saved sucessfully');\n",
        "\n",
        "    # show image\n",
        "    from google.colab.patches import cv2_imshow\n",
        "    cv2_imshow(final_Img)\n"
<<<<<<< HEAD
      ],
      "metadata": {
        "id": "bUhxmgxWdCTX"
      },
      "execution_count": null,
      "outputs": []
    },
    {
      "cell_type": "code",
      "source": [],
      "metadata": {
        "id": "6VsruNthhWsi"
      },
      "execution_count": null,
      "outputs": []
=======
      ]
    },
    {
      "cell_type": "code",
      "execution_count": null,
      "metadata": {
        "id": "6VsruNthhWsi"
      },
      "outputs": [],
      "source": []
>>>>>>> main
    }
  ],
  "metadata": {
    "accelerator": "GPU",
    "colab": {
      "collapsed_sections": [],
<<<<<<< HEAD
      "provenance": [],
      "machine_shape": "hm"
=======
      "machine_shape": "hm",
      "provenance": []
>>>>>>> main
    },
    "gpuClass": "standard",
    "kernelspec": {
      "display_name": "Python 3 (ipykernel)",
      "language": "python",
      "name": "python3"
    },
    "language_info": {
      "codemirror_mode": {
        "name": "ipython",
        "version": 3
      },
      "file_extension": ".py",
      "mimetype": "text/x-python",
      "name": "python",
      "nbconvert_exporter": "python",
      "pygments_lexer": "ipython3",
      "version": "3.9.7"
    }
  },
  "nbformat": 4,
  "nbformat_minor": 0
<<<<<<< HEAD
}
=======
}
>>>>>>> main
